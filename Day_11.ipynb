{
 "cells": [
  {
   "cell_type": "code",
   "execution_count": 41,
   "id": "c265867e",
   "metadata": {},
   "outputs": [
    {
     "data": {
      "text/plain": [
       "[['Monkey 0:',\n",
       "  '  Starting items: 83, 97, 95, 67',\n",
       "  '  Operation: new = old * 19',\n",
       "  '  Test: divisible by 17',\n",
       "  '    If true: throw to monkey 2',\n",
       "  '    If false: throw to monkey 7'],\n",
       " ['Monkey 1:',\n",
       "  '  Starting items: 71, 70, 79, 88, 56, 70',\n",
       "  '  Operation: new = old + 2',\n",
       "  '  Test: divisible by 19',\n",
       "  '    If true: throw to monkey 7',\n",
       "  '    If false: throw to monkey 0'],\n",
       " ['Monkey 2:',\n",
       "  '  Starting items: 98, 51, 51, 63, 80, 85, 84, 95',\n",
       "  '  Operation: new = old + 7',\n",
       "  '  Test: divisible by 7',\n",
       "  '    If true: throw to monkey 4',\n",
       "  '    If false: throw to monkey 3'],\n",
       " ['Monkey 3:',\n",
       "  '  Starting items: 77, 90, 82, 80, 79',\n",
       "  '  Operation: new = old + 1',\n",
       "  '  Test: divisible by 11',\n",
       "  '    If true: throw to monkey 6',\n",
       "  '    If false: throw to monkey 4'],\n",
       " ['Monkey 4:',\n",
       "  '  Starting items: 68',\n",
       "  '  Operation: new = old * 5',\n",
       "  '  Test: divisible by 13',\n",
       "  '    If true: throw to monkey 6',\n",
       "  '    If false: throw to monkey 5'],\n",
       " ['Monkey 5:',\n",
       "  '  Starting items: 60, 94',\n",
       "  '  Operation: new = old + 5',\n",
       "  '  Test: divisible by 3',\n",
       "  '    If true: throw to monkey 1',\n",
       "  '    If false: throw to monkey 0'],\n",
       " ['Monkey 6:',\n",
       "  '  Starting items: 81, 51, 85',\n",
       "  '  Operation: new = old * old',\n",
       "  '  Test: divisible by 5',\n",
       "  '    If true: throw to monkey 5',\n",
       "  '    If false: throw to monkey 1'],\n",
       " ['Monkey 7:',\n",
       "  '  Starting items: 98, 81, 63, 65, 84, 71, 84',\n",
       "  '  Operation: new = old + 3',\n",
       "  '  Test: divisible by 2',\n",
       "  '    If true: throw to monkey 2',\n",
       "  '    If false: throw to monkey 3']]"
      ]
     },
     "execution_count": 41,
     "metadata": {},
     "output_type": "execute_result"
    }
   ],
   "source": [
    "#f = open('Day_11_example.txt')\n",
    "f = open('Day_11_input.txt')\n",
    "paragraphs = [p.splitlines() for p in f.read().split('\\n\\n')]\n",
    "paragraphs"
   ]
  },
  {
   "cell_type": "code",
   "execution_count": 55,
   "id": "2a6d23d6",
   "metadata": {},
   "outputs": [],
   "source": [
    "from dataclasses import dataclass\n",
    "from typing import Callable\n",
    "\n",
    "@dataclass\n",
    "class Monkey:\n",
    "    items: list[int]\n",
    "    operation: Callable[[int], int]\n",
    "    divisor: int\n",
    "    if_true: int\n",
    "    if_false: int\n",
    "    inspected_items: int\n",
    "    \n",
    "    @classmethod\n",
    "    def parse(cls, lines):\n",
    "        assert lines[0].startswith('Monkey ')\n",
    "        assert lines[1].startswith('  Starting items: ')\n",
    "        items = [int(item.strip()) for item in lines[1][18:].split(',')]\n",
    "        assert lines[2].startswith('  Operation: new = old ')\n",
    "        op, arg = lines[2][23:].split(' ')\n",
    "        if op == '*' and arg == 'old':\n",
    "            operation = lambda old: old * old\n",
    "        elif op == '*':\n",
    "            operation = lambda old: old * int(arg)\n",
    "        elif op == '+':\n",
    "            operation = lambda old: old + int(arg)\n",
    "        else:\n",
    "            assert False\n",
    "        assert lines[3].startswith('  Test: divisible by ')\n",
    "        divisor = int(lines[3][21:])\n",
    "        assert lines[4].startswith('    If true: throw to monkey ')\n",
    "        if_true = int(lines[4][29:])\n",
    "        assert lines[5].startswith('    If false: throw to monkey ')\n",
    "        if_false = int(lines[5][30:])\n",
    "        \n",
    "        return Monkey(items, operation, divisor, if_true, if_false, 0)\n",
    "    \n",
    "    def round(self, worry_divisor):\n",
    "        throws = []\n",
    "        while self.items:\n",
    "            item = self.items.pop(0) \n",
    "            new = self.operation(item) // worry_divisor\n",
    "            if new % self.divisor == 0:\n",
    "                throws.append((self.if_true, new))\n",
    "            else:\n",
    "                throws.append((self.if_false, new))\n",
    "            self.inspected_items += 1\n",
    "        return throws\n",
    "\n",
    "    def round2(self, worry_divisor, mod_product):\n",
    "        throws = []\n",
    "        while self.items:\n",
    "            item = self.items.pop(0) \n",
    "            new = (self.operation(item) // worry_divisor) % mod_product\n",
    "            if new % self.divisor == 0:\n",
    "                throws.append((self.if_true, new))\n",
    "            else:\n",
    "                throws.append((self.if_false, new))\n",
    "            self.inspected_items += 1\n",
    "        return throws\n",
    "         "
   ]
  },
  {
   "cell_type": "code",
   "execution_count": 56,
   "id": "95fd7d38",
   "metadata": {},
   "outputs": [],
   "source": [
    "monkeys = [Monkey.parse(p) for p in paragraphs]"
   ]
  },
  {
   "cell_type": "code",
   "execution_count": 57,
   "id": "82f46c96",
   "metadata": {},
   "outputs": [],
   "source": [
    "for _ in range(20):\n",
    "    for monkey in monkeys:\n",
    "        throws = monkey.round(3)\n",
    "        for m, item in throws:\n",
    "            monkeys[m].items.append(item)"
   ]
  },
  {
   "cell_type": "code",
   "execution_count": 58,
   "id": "9881a4d0",
   "metadata": {},
   "outputs": [],
   "source": [
    "from math import prod\n",
    "def monkey_business(monkeys):\n",
    "    return prod(sorted([m.inspected_items for m in monkeys])[-2:])"
   ]
  },
  {
   "cell_type": "code",
   "execution_count": 59,
   "id": "f717a52d",
   "metadata": {},
   "outputs": [
    {
     "data": {
      "text/plain": [
       "108240"
      ]
     },
     "execution_count": 59,
     "metadata": {},
     "output_type": "execute_result"
    }
   ],
   "source": [
    "# Part 1 solution\n",
    "monkey_business(monkeys)"
   ]
  },
  {
   "cell_type": "code",
   "execution_count": 62,
   "id": "f7d0426d",
   "metadata": {},
   "outputs": [],
   "source": [
    "monkeys = [Monkey.parse(p) for p in paragraphs]"
   ]
  },
  {
   "cell_type": "code",
   "execution_count": 63,
   "id": "14be0be3",
   "metadata": {},
   "outputs": [],
   "source": [
    "mod_product = prod([m.divisor for m in monkeys])\n",
    "for _ in range(10000):\n",
    "    for monkey in monkeys:\n",
    "        throws = monkey.round2(1, mod_product)\n",
    "        for m, item in throws:\n",
    "            monkeys[m].items.append(item)"
   ]
  },
  {
   "cell_type": "code",
   "execution_count": 64,
   "id": "832c6571",
   "metadata": {},
   "outputs": [
    {
     "data": {
      "text/plain": [
       "25712998901"
      ]
     },
     "execution_count": 64,
     "metadata": {},
     "output_type": "execute_result"
    }
   ],
   "source": [
    "# Part 2 solution\n",
    "monkey_business(monkeys)"
   ]
  },
  {
   "cell_type": "code",
   "execution_count": null,
   "id": "412bbe1d",
   "metadata": {},
   "outputs": [],
   "source": []
  }
 ],
 "metadata": {
  "kernelspec": {
   "display_name": "Python 3 (ipykernel)",
   "language": "python",
   "name": "python3"
  },
  "language_info": {
   "codemirror_mode": {
    "name": "ipython",
    "version": 3
   },
   "file_extension": ".py",
   "mimetype": "text/x-python",
   "name": "python",
   "nbconvert_exporter": "python",
   "pygments_lexer": "ipython3",
   "version": "3.9.5"
  }
 },
 "nbformat": 4,
 "nbformat_minor": 5
}
