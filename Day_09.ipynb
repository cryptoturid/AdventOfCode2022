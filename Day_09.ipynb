{
 "cells": [
  {
   "cell_type": "code",
   "execution_count": 3,
   "id": "d57430f6",
   "metadata": {},
   "outputs": [],
   "source": [
    "#f = open(\"Day_09_example.txt\")\n",
    "#f = open(\"Day_09_example2.txt\")\n",
    "f = open(\"Day_09_input.txt\")\n",
    "motions = [line.rstrip().split() for line in f]\n",
    "#motions"
   ]
  },
  {
   "cell_type": "code",
   "execution_count": 4,
   "id": "9bd948f1",
   "metadata": {},
   "outputs": [],
   "source": [
    "def move(head, tail, motion):\n",
    "    direction, num_steps = motion[0], int(motion[1])\n",
    "    hx, hy = head\n",
    "    tx, ty = tail\n",
    "    tail_positions = {(tx, ty)}\n",
    "    \n",
    "    if direction == 'L':\n",
    "        for i in range(num_steps):\n",
    "            hx = hx - 1\n",
    "            if is_touching((hx, hy), (tx, ty)) == False:\n",
    "                tx, ty = move_tail((hx, hy), (tx, ty))\n",
    "                tail_positions.add((tx, ty))\n",
    "    if direction == 'R':\n",
    "        for i in range(num_steps):\n",
    "            hx = hx + 1\n",
    "            if is_touching((hx, hy), (tx, ty)) == False:\n",
    "                tx, ty = move_tail((hx, hy), (tx, ty))\n",
    "                tail_positions.add((tx, ty))\n",
    "    if direction == 'U':\n",
    "        for i in range(num_steps):\n",
    "            hy = hy + 1\n",
    "            if is_touching((hx, hy), (tx, ty)) == False:\n",
    "                tx, ty = move_tail((hx, hy), (tx, ty))\n",
    "                tail_positions.add((tx, ty))\n",
    "    if direction == 'D':\n",
    "        for i in range(num_steps):\n",
    "            hy = hy - 1\n",
    "            if is_touching((hx, hy), (tx, ty)) == False:\n",
    "                tx, ty = move_tail((hx, hy), (tx, ty))\n",
    "                tail_positions.add((tx, ty))\n",
    "    \n",
    "    return (hx, hy), (tx, ty), tail_positions"
   ]
  },
  {
   "cell_type": "code",
   "execution_count": 5,
   "id": "30278853",
   "metadata": {},
   "outputs": [],
   "source": [
    "def is_touching(head, tail):\n",
    "    hx, hy = head\n",
    "    tx, ty = tail\n",
    "    if abs(tx-hx) <= 1 and abs(ty-hy) <= 1:\n",
    "        return True\n",
    "    else:\n",
    "        return False"
   ]
  },
  {
   "cell_type": "code",
   "execution_count": 6,
   "id": "616e0689",
   "metadata": {},
   "outputs": [],
   "source": [
    "def move_tail(head, tail):\n",
    "    hx, hy = head\n",
    "    tx, ty = tail\n",
    "    if hx == tx:\n",
    "        if hy > ty:\n",
    "            ty += 1\n",
    "        else:\n",
    "            ty -= 1\n",
    "    elif hy == ty:\n",
    "        if hx > tx:\n",
    "            tx += 1\n",
    "        else:\n",
    "            tx -= 1\n",
    "    else:\n",
    "        tx, ty = diagonal_move((hx, hy), (tx, ty))\n",
    "    return (tx, ty)"
   ]
  },
  {
   "cell_type": "code",
   "execution_count": 13,
   "id": "bfa9e3d9",
   "metadata": {},
   "outputs": [],
   "source": [
    "def diagonal_move(head, tail):\n",
    "    hx, hy = head\n",
    "    tx, ty = tail\n",
    "    \n",
    "    if hx - tx == 2:\n",
    "        tx = hx - 1\n",
    "    elif tx - hx == 2:\n",
    "        tx = hx + 1\n",
    "    else:\n",
    "        tx = hx\n",
    "        \n",
    "    if hy - ty == 2:\n",
    "        ty = hy - 1\n",
    "    elif ty - hy == 2:\n",
    "        ty = hy + 1\n",
    "    else:\n",
    "        ty = hy\n",
    "    \n",
    "    return (tx, ty)"
   ]
  },
  {
   "cell_type": "code",
   "execution_count": 14,
   "id": "1c5c1458",
   "metadata": {},
   "outputs": [
    {
     "data": {
      "text/plain": [
       "6023"
      ]
     },
     "execution_count": 14,
     "metadata": {},
     "output_type": "execute_result"
    }
   ],
   "source": [
    "# Part 1 solution\n",
    "h = (0,0)\n",
    "t = (0,0)\n",
    "tail_positions = set()\n",
    "for m in motions:\n",
    "    h, t, positions = move(h, t, m)\n",
    "    tail_positions |= positions\n",
    "len(tail_positions)"
   ]
  },
  {
   "cell_type": "code",
   "execution_count": 15,
   "id": "571775eb",
   "metadata": {},
   "outputs": [],
   "source": [
    "def move2(rope, direction):\n",
    "    new_rope = []\n",
    "    if direction == 'L':\n",
    "        new_rope.append((rope[0][0] - 1, rope[0][1]))\n",
    "    elif direction == 'R':\n",
    "        new_rope.append((rope[0][0] + 1, rope[0][1]))\n",
    "    elif direction == 'U':\n",
    "        new_rope.append((rope[0][0], rope[0][1] + 1))\n",
    "    elif direction == 'D':\n",
    "        new_rope.append((rope[0][0], rope[0][1] - 1))\n",
    "    for i in range(1,len(rope)):\n",
    "        if is_touching(new_rope[-1], rope[i]) == False:\n",
    "            new_rope.append(move_tail(new_rope[-1], rope[i]))\n",
    "        else:\n",
    "            new_rope.append(rope[i])\n",
    "    assert len(new_rope) == len(rope)\n",
    "    return new_rope"
   ]
  },
  {
   "cell_type": "code",
   "execution_count": 16,
   "id": "2351b106",
   "metadata": {},
   "outputs": [
    {
     "data": {
      "text/plain": [
       "2533"
      ]
     },
     "execution_count": 16,
     "metadata": {},
     "output_type": "execute_result"
    }
   ],
   "source": [
    "# Part 2 solution\n",
    "# NOT 2359 (too low)\n",
    "rope = [(0,0) for i in range(10)]\n",
    "#print(rope)\n",
    "tail_positions = {rope[-1]}\n",
    "for direction, steps in motions:\n",
    "    for _ in range(int(steps)):\n",
    "        rope = move2(rope, direction)\n",
    "        tail_positions.add(rope[-1])\n",
    "#    print(rope)\n",
    "len(tail_positions)"
   ]
  },
  {
   "cell_type": "code",
   "execution_count": 17,
   "id": "92a7999c",
   "metadata": {},
   "outputs": [
    {
     "data": {
      "text/plain": [
       "6023"
      ]
     },
     "execution_count": 17,
     "metadata": {},
     "output_type": "execute_result"
    }
   ],
   "source": [
    "# Part 1 solution\n",
    "rope = [(0,0) for i in range(2)]\n",
    "tail_positions = {rope[-1]}\n",
    "for direction, steps in motions:\n",
    "    for _ in range(int(steps)):\n",
    "        rope = move2(rope, direction)\n",
    "        tail_positions.add(rope[-1])\n",
    "#    print(rope)\n",
    "len(tail_positions)"
   ]
  },
  {
   "cell_type": "code",
   "execution_count": null,
   "id": "fa6642e7",
   "metadata": {},
   "outputs": [],
   "source": []
  }
 ],
 "metadata": {
  "kernelspec": {
   "display_name": "Python 3 (ipykernel)",
   "language": "python",
   "name": "python3"
  },
  "language_info": {
   "codemirror_mode": {
    "name": "ipython",
    "version": 3
   },
   "file_extension": ".py",
   "mimetype": "text/x-python",
   "name": "python",
   "nbconvert_exporter": "python",
   "pygments_lexer": "ipython3",
   "version": "3.9.5"
  }
 },
 "nbformat": 4,
 "nbformat_minor": 5
}
