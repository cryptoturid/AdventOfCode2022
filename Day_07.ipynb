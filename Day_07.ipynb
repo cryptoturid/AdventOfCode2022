{
 "cells": [
  {
   "cell_type": "code",
   "execution_count": 142,
   "id": "115f806e",
   "metadata": {},
   "outputs": [],
   "source": [
    "def parse(data):\n",
    "    f = open(data)\n",
    "    path = []\n",
    "    tree = {}\n",
    "    dirs = set()\n",
    "    dirs.add('/')\n",
    "    for line in f:\n",
    "        item = line.rstrip().split()\n",
    "        #print(item)\n",
    "        if item[0] == '$':\n",
    "            #if item[1] == 'ls':                \n",
    "            if item[1] == 'cd':\n",
    "                if item[2] == '..':\n",
    "                    del path[-1]\n",
    "                elif item[2] == '/':\n",
    "                    path = ['/']\n",
    "                else:\n",
    "                    if path != []:\n",
    "                        path.append(item[2] + '/')\n",
    "                    else:\n",
    "                        path.append(item[2])\n",
    "        elif item[0] == 'dir':\n",
    "            dirs.add(''.join(path) + item[1])\n",
    "        elif item[0].isdecimal():\n",
    "            #path.append(item[1])\n",
    "            key = ''.join(path)\n",
    "            key += item[1]\n",
    "            tree[key] = int(item[0])\n",
    "        #print(path)\n",
    "        #print(tree)\n",
    "    return (tree, dirs)"
   ]
  },
  {
   "cell_type": "code",
   "execution_count": 153,
   "id": "a7e0a12a",
   "metadata": {},
   "outputs": [],
   "source": [
    "#tree, dirs = parse(\"Day_07_example.txt\")\n",
    "tree, dirs = parse(\"Day_07_input.txt\")\n",
    "#dirs"
   ]
  },
  {
   "cell_type": "code",
   "execution_count": 144,
   "id": "df913f11",
   "metadata": {
    "scrolled": true
   },
   "outputs": [],
   "source": [
    "#list_dirs(tree)"
   ]
  },
  {
   "cell_type": "code",
   "execution_count": 147,
   "id": "f885b2a1",
   "metadata": {},
   "outputs": [],
   "source": [
    "def dir_size_lower(directory, tree):\n",
    "    dir_size = 0\n",
    "    for key in tree:\n",
    "        if key.startswith(directory):\n",
    "            dir_size += tree[key]\n",
    "            if dir_size > 100000:\n",
    "                return 0\n",
    "    return dir_size"
   ]
  },
  {
   "cell_type": "code",
   "execution_count": 148,
   "id": "162ef059",
   "metadata": {},
   "outputs": [
    {
     "data": {
      "text/plain": [
       "0"
      ]
     },
     "execution_count": 148,
     "metadata": {},
     "output_type": "execute_result"
    }
   ],
   "source": [
    "dir_size_lower('/', tree)"
   ]
  },
  {
   "cell_type": "code",
   "execution_count": 152,
   "id": "df9f211e",
   "metadata": {},
   "outputs": [
    {
     "data": {
      "text/plain": [
       "1667443"
      ]
     },
     "execution_count": 152,
     "metadata": {},
     "output_type": "execute_result"
    }
   ],
   "source": [
    "# Part 1 solution\n",
    "sum_sizes = 0\n",
    "for d in dirs:\n",
    "    sum_sizes += dir_size_lower(d, tree)\n",
    "sum_sizes"
   ]
  },
  {
   "cell_type": "code",
   "execution_count": 154,
   "id": "f2947479",
   "metadata": {},
   "outputs": [],
   "source": [
    "def dir_size(directory, tree):\n",
    "    dir_size = 0\n",
    "    for key in tree:\n",
    "        if key.startswith(directory):\n",
    "            dir_size += tree[key]\n",
    "    return dir_size"
   ]
  },
  {
   "cell_type": "code",
   "execution_count": 159,
   "id": "9b99a800",
   "metadata": {},
   "outputs": [],
   "source": [
    "total_size = 70000000\n",
    "size_needed = 30000000\n",
    "free_space = total_size - dir_size('/', tree)\n",
    "if free_space < size_needed:\n",
    "    size_to_delete = size_needed - free_space"
   ]
  },
  {
   "cell_type": "code",
   "execution_count": 160,
   "id": "4a3e540b",
   "metadata": {},
   "outputs": [
    {
     "data": {
      "text/plain": [
       "7870454"
      ]
     },
     "execution_count": 160,
     "metadata": {},
     "output_type": "execute_result"
    }
   ],
   "source": [
    "size_to_delete"
   ]
  },
  {
   "cell_type": "code",
   "execution_count": 167,
   "id": "ea9db2c4",
   "metadata": {},
   "outputs": [
    {
     "data": {
      "text/plain": [
       "('/jpjgdm/tgrplmn/lpv/bjlcfcfq', 8998590)"
      ]
     },
     "execution_count": 167,
     "metadata": {},
     "output_type": "execute_result"
    }
   ],
   "source": [
    "# Part 2 solution\n",
    "to_be_deleted = ('/', dir_size('/', tree))\n",
    "for d in dirs:\n",
    "    size = dir_size(d, tree)\n",
    "    if size >= size_to_delete and size < to_be_deleted[1]:\n",
    "        to_be_deleted = (d, size)\n",
    "to_be_deleted"
   ]
  },
  {
   "cell_type": "code",
   "execution_count": null,
   "id": "582c1234",
   "metadata": {},
   "outputs": [],
   "source": []
  }
 ],
 "metadata": {
  "kernelspec": {
   "display_name": "Python 3 (ipykernel)",
   "language": "python",
   "name": "python3"
  },
  "language_info": {
   "codemirror_mode": {
    "name": "ipython",
    "version": 3
   },
   "file_extension": ".py",
   "mimetype": "text/x-python",
   "name": "python",
   "nbconvert_exporter": "python",
   "pygments_lexer": "ipython3",
   "version": "3.9.5"
  }
 },
 "nbformat": 4,
 "nbformat_minor": 5
}
