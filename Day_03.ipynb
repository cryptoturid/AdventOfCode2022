{
 "cells": [
  {
   "cell_type": "code",
   "execution_count": 111,
   "id": "dbab7aa1",
   "metadata": {},
   "outputs": [],
   "source": [
    "#f = open(\"Day_03_example.txt\")\n",
    "f = open(\"Day_03_input.txt\")\n",
    "rucksacks = [[line[:len(line)//2], line.rstrip()[len(line)//2:]] for line in f]\n",
    "#rucksacks"
   ]
  },
  {
   "cell_type": "code",
   "execution_count": 112,
   "id": "3ff68048",
   "metadata": {},
   "outputs": [],
   "source": [
    "# Solution using str.find()\n",
    "items=[]\n",
    "for i in range(len(rucksacks)):\n",
    "    duplicate = -1\n",
    "    j = 0\n",
    "    while duplicate == -1 and j < len(rucksacks[i][1]):\n",
    "        duplicate = rucksacks[i][0].find(rucksacks[i][1][j])\n",
    "        j = j + 1\n",
    "    items.append(rucksacks[i][0][duplicate])\n",
    "#items"
   ]
  },
  {
   "cell_type": "code",
   "execution_count": 113,
   "id": "95b1aec8",
   "metadata": {},
   "outputs": [],
   "source": [
    "# Solution using the in operator\n",
    "items = []\n",
    "for i in range(len(rucksacks)):\n",
    "    duplicate = False\n",
    "    j = 0\n",
    "    while duplicate == False:\n",
    "        duplicate = rucksacks[i][0][j] in rucksacks[i][1]\n",
    "        if duplicate == True:\n",
    "            items.append(rucksacks[i][0][j])\n",
    "        j = j + 1\n",
    "#items"
   ]
  },
  {
   "cell_type": "code",
   "execution_count": 114,
   "id": "45ced679",
   "metadata": {},
   "outputs": [],
   "source": [
    "priorities = [ord(i) - 96 if i.islower() else ord(i) - 38 for i in items]\n",
    "#priorities"
   ]
  },
  {
   "cell_type": "code",
   "execution_count": 115,
   "id": "ca3162d0",
   "metadata": {},
   "outputs": [
    {
     "data": {
      "text/plain": [
       "7795"
      ]
     },
     "execution_count": 115,
     "metadata": {},
     "output_type": "execute_result"
    }
   ],
   "source": [
    "# Part 1 solution\n",
    "sum(priorities)"
   ]
  },
  {
   "cell_type": "code",
   "execution_count": 162,
   "id": "eda27fae",
   "metadata": {},
   "outputs": [],
   "source": [
    "#f = open(\"Day_03_example.txt\")\n",
    "f = open(\"Day_03_input.txt\")\n",
    "elves = [line.rstrip() for line in f]\n",
    "args = [iter(elves)] * 3\n",
    "groups = list(list(set(word) for word in group) for group in zip(*args))\n",
    "#groups = list(sorted([list(z) for z in zip(*args)], key = len))\n",
    "#groups = [[elves[i], elves[i+1], elves[i+2]] for i ]\n",
    "#groups = [sorted(r, key = len) for r in groups]\n",
    "#groups"
   ]
  },
  {
   "cell_type": "code",
   "execution_count": 165,
   "id": "228f4f88",
   "metadata": {},
   "outputs": [],
   "source": [
    "common_elements = []\n",
    "for i in range(len(groups)):\n",
    "    common = groups[i][0].intersection(groups[i][1], groups[i][2])\n",
    "    common_elements.append(common.pop())\n",
    "#common_elements"
   ]
  },
  {
   "cell_type": "code",
   "execution_count": 167,
   "id": "e1080767",
   "metadata": {},
   "outputs": [
    {
     "data": {
      "text/plain": [
       "2703"
      ]
     },
     "execution_count": 167,
     "metadata": {},
     "output_type": "execute_result"
    }
   ],
   "source": [
    "# Part 2 solution\n",
    "priorities = [ord(i) - 96 if i.islower() else ord(i) - 38 for i in common_elements]\n",
    "sum(priorities)"
   ]
  },
  {
   "cell_type": "code",
   "execution_count": null,
   "id": "0fe42f8a",
   "metadata": {},
   "outputs": [],
   "source": []
  }
 ],
 "metadata": {
  "kernelspec": {
   "display_name": "Python 3 (ipykernel)",
   "language": "python",
   "name": "python3"
  },
  "language_info": {
   "codemirror_mode": {
    "name": "ipython",
    "version": 3
   },
   "file_extension": ".py",
   "mimetype": "text/x-python",
   "name": "python",
   "nbconvert_exporter": "python",
   "pygments_lexer": "ipython3",
   "version": "3.9.5"
  }
 },
 "nbformat": 4,
 "nbformat_minor": 5
}
