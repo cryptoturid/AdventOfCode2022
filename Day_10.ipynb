{
 "cells": [
  {
   "cell_type": "code",
   "execution_count": 50,
   "id": "c12bfdc0",
   "metadata": {},
   "outputs": [],
   "source": [
    "small_example = [['noop'], ['addx', 3], ['addx', -5]]\n",
    "f_ex = open('Day_10_example.txt')\n",
    "f = open('Day_10_input.txt')\n",
    "program_ex = [line.rstrip().split() for line in f_ex]\n",
    "program = [line.rstrip().split() for line in f]\n",
    "#program"
   ]
  },
  {
   "cell_type": "code",
   "execution_count": 45,
   "id": "0cb761e2",
   "metadata": {},
   "outputs": [],
   "source": [
    "def parse_program(program, register):\n",
    "    signal = [0]\n",
    "    X = register\n",
    "    cycle = 1\n",
    "    for i in program:\n",
    "        signal.append(X)\n",
    "#        print(cycle, X)\n",
    "        cycle += 1\n",
    "        if i[0] == 'addx':\n",
    "            signal.append(X)\n",
    "#            print(cycle, X)\n",
    "            X += int(i[1])\n",
    "            cycle += 1\n",
    "#    print(cycle, X)\n",
    "    return signal"
   ]
  },
  {
   "cell_type": "code",
   "execution_count": 52,
   "id": "291bba47",
   "metadata": {},
   "outputs": [],
   "source": [
    "signal_ex = parse_program(program_ex, 1)\n",
    "signal = parse_program(program, 1)"
   ]
  },
  {
   "cell_type": "code",
   "execution_count": 47,
   "id": "ff226c8d",
   "metadata": {},
   "outputs": [],
   "source": [
    "def get_signal_strengths(signal):\n",
    "    signal_strength = 0\n",
    "    for i in range(20, len(signal),40):\n",
    "        signal_strength += (i *signal[i])\n",
    "    return signal_strength"
   ]
  },
  {
   "cell_type": "code",
   "execution_count": 53,
   "id": "2f6d9d29",
   "metadata": {},
   "outputs": [
    {
     "data": {
      "text/plain": [
       "12460"
      ]
     },
     "execution_count": 53,
     "metadata": {},
     "output_type": "execute_result"
    }
   ],
   "source": [
    "# Part 1 solution\n",
    "get_signal_strengths(signal)"
   ]
  },
  {
   "cell_type": "code",
   "execution_count": 105,
   "id": "faf863c6",
   "metadata": {},
   "outputs": [],
   "source": [
    "def print_row(signal):\n",
    "    row = ''\n",
    "    for i in range(40):\n",
    "        if signal[i] in (i-1, i, i+1):\n",
    "            row = row + '#'\n",
    "#            print(row)\n",
    "        else:\n",
    "            row = row + '.'\n",
    "    print(row)"
   ]
  },
  {
   "cell_type": "code",
   "execution_count": 111,
   "id": "2e63f1c1",
   "metadata": {},
   "outputs": [
    {
     "name": "stdout",
     "output_type": "stream",
     "text": [
      "##..##..##..##..##..##..##..##..##..##..\n",
      "###...###...###...###...###...###...###.\n",
      "####....####....####....####....####....\n",
      "#####.....#####.....#####.....#####.....\n",
      "######......######......######......####\n",
      "#######.......#######.......#######.....\n"
     ]
    }
   ],
   "source": [
    "print_row(signal_ex[1:41])\n",
    "for i in range(41, len(signal_ex), 40):\n",
    "    if i + 40 <= len(signal_ex):\n",
    "        print_row(signal_ex[i:i+40])"
   ]
  },
  {
   "cell_type": "code",
   "execution_count": 112,
   "id": "8f43ac6b",
   "metadata": {},
   "outputs": [
    {
     "name": "stdout",
     "output_type": "stream",
     "text": [
      "####.####.####.###..###...##..#..#.#....\n",
      "#.......#.#....#..#.#..#.#..#.#.#..#....\n",
      "###....#..###..#..#.#..#.#..#.##...#....\n",
      "#.....#...#....###..###..####.#.#..#....\n",
      "#....#....#....#....#.#..#..#.#.#..#....\n",
      "####.####.#....#....#..#.#..#.#..#.####.\n"
     ]
    }
   ],
   "source": [
    "# Part 2 solution\n",
    "print_row(signal[1:41])\n",
    "for i in range(41, len(signal), 40):\n",
    "    if i + 40 <= len(signal):\n",
    "        print_row(signal[i:i+40])"
   ]
  },
  {
   "cell_type": "code",
   "execution_count": null,
   "id": "c4d084d4",
   "metadata": {},
   "outputs": [],
   "source": []
  }
 ],
 "metadata": {
  "kernelspec": {
   "display_name": "Python 3 (ipykernel)",
   "language": "python",
   "name": "python3"
  },
  "language_info": {
   "codemirror_mode": {
    "name": "ipython",
    "version": 3
   },
   "file_extension": ".py",
   "mimetype": "text/x-python",
   "name": "python",
   "nbconvert_exporter": "python",
   "pygments_lexer": "ipython3",
   "version": "3.9.5"
  }
 },
 "nbformat": 4,
 "nbformat_minor": 5
}
