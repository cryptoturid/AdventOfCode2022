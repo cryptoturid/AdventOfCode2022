{
 "cells": [
  {
   "cell_type": "code",
   "execution_count": 108,
   "id": "9763f37c",
   "metadata": {},
   "outputs": [],
   "source": [
    "#f = open(\"Day_04_example.txt\")\n",
    "f = open(\"Day_04_input.txt\")\n",
    "pairs = [line.rstrip().split(',') for line in f]\n",
    "pairs = [\n",
    "    ([int(s) for s in s1.split('-')], [int(s) for s in s2.split('-')])\n",
    "    for s1, s2 in pairs\n",
    "]\n",
    "#pairs"
   ]
  },
  {
   "cell_type": "code",
   "execution_count": 109,
   "id": "7c4548f6",
   "metadata": {},
   "outputs": [],
   "source": [
    "def contains(r1, r2):\n",
    "    s1, e1 = r1\n",
    "    s2, e2 = r2\n",
    "    return (s1 <= s2 and e1 >= e2) or (s1 >= s2 and e1 <= e2)"
   ]
  },
  {
   "cell_type": "code",
   "execution_count": 110,
   "id": "d8b401b6",
   "metadata": {},
   "outputs": [],
   "source": [
    "def overlaps(r1, r2):\n",
    "    s1, e1 = r1\n",
    "    s2, e2 = r2\n",
    "    return (s2 <= s1 <= e2) or (s2 <= e1 <= e2) or (s1 <= s2 <= e1) or (s1 <= e2 <= e1)"
   ]
  },
  {
   "cell_type": "code",
   "execution_count": 111,
   "id": "36b8037e",
   "metadata": {},
   "outputs": [
    {
     "data": {
      "text/plain": [
       "424"
      ]
     },
     "execution_count": 111,
     "metadata": {},
     "output_type": "execute_result"
    }
   ],
   "source": [
    "# Part 1 solution\n",
    "sum(contains(r1, r2) for r1, r2 in pairs)"
   ]
  },
  {
   "cell_type": "code",
   "execution_count": 112,
   "id": "f5e9df69",
   "metadata": {},
   "outputs": [
    {
     "data": {
      "text/plain": [
       "804"
      ]
     },
     "execution_count": 112,
     "metadata": {},
     "output_type": "execute_result"
    }
   ],
   "source": [
    "# Part 2 solution\n",
    "sum(overlaps(r1, r2) for r1, r2 in pairs)"
   ]
  },
  {
   "cell_type": "code",
   "execution_count": 113,
   "id": "d9ce93bd",
   "metadata": {},
   "outputs": [
    {
     "data": {
      "text/plain": [
       "424"
      ]
     },
     "execution_count": 113,
     "metadata": {},
     "output_type": "execute_result"
    }
   ],
   "source": [
    "# Part 1 solution (old)\n",
    "contained = 0\n",
    "for i in range(len(pairs)):\n",
    "    if (pairs[i][0][0] <= pairs[i][1][0] and pairs[i][0][1] >= pairs[i][1][1]) or (pairs[i][0][0] >= pairs[i][1][0] and pairs[i][0][1] <= pairs[i][1][1]):\n",
    "        contained += 1\n",
    "contained"
   ]
  },
  {
   "cell_type": "code",
   "execution_count": 114,
   "id": "66242b0a",
   "metadata": {},
   "outputs": [
    {
     "data": {
      "text/plain": [
       "804"
      ]
     },
     "execution_count": 114,
     "metadata": {},
     "output_type": "execute_result"
    }
   ],
   "source": [
    "# Part 2 solution (old)\n",
    "overlap = 0\n",
    "for i in range(len(pairs)):\n",
    "    if len(set(range(int(pairs[i][0][0]), int(pairs[i][0][1]) + 1)).intersection(set(range(int(pairs[i][1][0]), int(pairs[i][1][1]) + 1)))) > 0:\n",
    "        overlap += 1\n",
    "overlap"
   ]
  },
  {
   "cell_type": "code",
   "execution_count": null,
   "id": "004d8ade",
   "metadata": {},
   "outputs": [],
   "source": []
  }
 ],
 "metadata": {
  "kernelspec": {
   "display_name": "Python 3 (ipykernel)",
   "language": "python",
   "name": "python3"
  },
  "language_info": {
   "codemirror_mode": {
    "name": "ipython",
    "version": 3
   },
   "file_extension": ".py",
   "mimetype": "text/x-python",
   "name": "python",
   "nbconvert_exporter": "python",
   "pygments_lexer": "ipython3",
   "version": "3.9.5"
  }
 },
 "nbformat": 4,
 "nbformat_minor": 5
}
