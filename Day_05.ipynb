{
 "cells": [
  {
   "cell_type": "code",
   "execution_count": 241,
   "id": "d9d2f079",
   "metadata": {},
   "outputs": [],
   "source": [
    "#f = open(\"Day_05_example.txt\")\n",
    "f = open(\"Day_05_input.txt\")\n",
    "data = f.read().splitlines()\n",
    "\n",
    "def parse(data):\n",
    "    crates = []\n",
    "    for line in data:  \n",
    "        crates.append(line.rstrip())\n",
    "        if line == '': \n",
    "            crates = crates[:-2]\n",
    "            del data[:len(crates) + 2]\n",
    "            break  \n",
    "    crates = [row.ljust(len(crates[-1]) + 1).rjust(len(crates[-1]) + 2).replace('    ', ' [ ]') for row in crates]\n",
    "    crates = [row.removeprefix(' [').removesuffix('] ').split('] [') for row in crates]\n",
    "    crates = [[row[i] for row in crates] for i in range(9)]\n",
    "    #crates = [[row[i] for row in crates] for i in range(3)]\n",
    "    for c in crates:\n",
    "        while c[0] == ' ': c.pop(0)\n",
    "    return crates\n",
    "crates = parse(data)"
   ]
  },
  {
   "cell_type": "code",
   "execution_count": 242,
   "id": "b552537f",
   "metadata": {},
   "outputs": [
    {
     "data": {
      "text/plain": [
       "([['N', 'Z'], ['D', 'C', 'M'], ['P']],\n",
       " [(1, 2, 1), (3, 1, 3), (2, 2, 1), (1, 1, 2)])"
      ]
     },
     "execution_count": 242,
     "metadata": {},
     "output_type": "execute_result"
    }
   ],
   "source": [
    "import textwrap\n",
    "\n",
    "def jparse(path):\n",
    "    crates = []\n",
    "    instructions = []\n",
    "    with open(path) as f:\n",
    "        for line in f:\n",
    "            line = line.rstrip()\n",
    "            if not line:  # end of crates\n",
    "                break\n",
    "            elif line.startswith(' 1'):  # column legend\n",
    "                continue\n",
    "            else:\n",
    "                columns = textwrap.wrap(line, 4, drop_whitespace=False)\n",
    "                while len(crates) < len(columns):\n",
    "                    crates.append([])\n",
    "                for i, col in enumerate(columns):\n",
    "                    col = col.strip()\n",
    "                    if col:\n",
    "                        assert col.startswith('[') and col.endswith(']')\n",
    "                        crates[i].append(col[1:-1])\n",
    "        for line in f:\n",
    "            move, num, frm, src, to, dst = line.split()\n",
    "            assert (move, frm, to) == (\"move\", \"from\", \"to\")\n",
    "            instructions.append((int(num), int(src), int(dst)))\n",
    "    return crates, instructions\n",
    "jparse(\"Day_05_example.txt\")"
   ]
  },
  {
   "cell_type": "code",
   "execution_count": 243,
   "id": "107722a8",
   "metadata": {},
   "outputs": [],
   "source": [
    "instructions = [i.replace('move ', '').replace(' from ', ' ').replace(' to ', ' ').split(' ') for i in data]\n",
    "instructions = [list(map(int,i) ) for i in instructions]\n",
    "#instructions"
   ]
  },
  {
   "cell_type": "code",
   "execution_count": 244,
   "id": "67d6a32d",
   "metadata": {},
   "outputs": [],
   "source": [
    "def move(instruction, stacks):\n",
    "    num, start, end = instruction\n",
    "    for i in range(num):\n",
    "        stacks[end-1].insert(0, stacks[start-1].pop(0))       "
   ]
  },
  {
   "cell_type": "code",
   "execution_count": 245,
   "id": "09ab1c02",
   "metadata": {},
   "outputs": [
    {
     "data": {
      "text/plain": [
       "[['L', 'M', 'C', 'C', 'R', 'G', 'J', 'H'],\n",
       " ['B', 'W'],\n",
       " ['L', 'V', 'F', 'Z', 'T', 'B', 'S'],\n",
       " ['V'],\n",
       " ['V', 'J', 'Q', 'B', 'P', 'S', 'P', 'P', 'J', 'Z', 'P', 'B', 'N'],\n",
       " ['T', 'R', 'S', 'Q', 'M', 'T', 'J', 'F', 'G', 'Z'],\n",
       " ['V', 'T', 'B', 'L', 'N'],\n",
       " ['L', 'D', 'F', 'B', 'D', 'D', 'D'],\n",
       " ['P', 'D', 'S']]"
      ]
     },
     "execution_count": 245,
     "metadata": {},
     "output_type": "execute_result"
    }
   ],
   "source": [
    "for i in instructions:\n",
    "    move(i, crates)\n",
    "crates"
   ]
  },
  {
   "cell_type": "code",
   "execution_count": 246,
   "id": "101030bc",
   "metadata": {},
   "outputs": [
    {
     "data": {
      "text/plain": [
       "'LBLVVTVLP'"
      ]
     },
     "execution_count": 246,
     "metadata": {},
     "output_type": "execute_result"
    }
   ],
   "source": [
    "# Part 1 solution\n",
    "message = ''\n",
    "for c in crates:\n",
    "    message += c[0]\n",
    "message"
   ]
  },
  {
   "cell_type": "code",
   "execution_count": 249,
   "id": "d2e66706",
   "metadata": {},
   "outputs": [],
   "source": [
    "#f = open(\"Day_05_example.txt\")\n",
    "f = open(\"Day_05_input.txt\")\n",
    "data = f.read().splitlines()\n",
    "crates = parse(data)"
   ]
  },
  {
   "cell_type": "code",
   "execution_count": 250,
   "id": "09c5fd6e",
   "metadata": {},
   "outputs": [],
   "source": [
    "def move2(instruction, stacks):\n",
    "    num, start, end = instruction\n",
    "    to_move = stacks[start - 1][:num]\n",
    "    del stacks[start - 1][:num]\n",
    "    stacks[end - 1] = to_move + stacks[end - 1]"
   ]
  },
  {
   "cell_type": "code",
   "execution_count": 251,
   "id": "f78a19af",
   "metadata": {},
   "outputs": [
    {
     "data": {
      "text/plain": [
       "[['T', 'H', 'M', 'L', 'P', 'P', 'S', 'D'],\n",
       " ['P', 'P'],\n",
       " ['F', 'N', 'S', 'C', 'Q', 'L', 'B'],\n",
       " ['F'],\n",
       " ['B', 'L', 'C', 'V', 'Z', 'R', 'D', 'S', 'B', 'D', 'T', 'V', 'M'],\n",
       " ['D', 'W', 'B', 'S', 'F', 'G', 'P', 'J', 'T', 'B'],\n",
       " ['R', 'N', 'L', 'V', 'Z'],\n",
       " ['J', 'J', 'Z', 'B', 'J', 'T', 'Q'],\n",
       " ['D', 'G', 'V']]"
      ]
     },
     "execution_count": 251,
     "metadata": {},
     "output_type": "execute_result"
    }
   ],
   "source": [
    "for i in instructions:\n",
    "    move2(i, crates)\n",
    "crates"
   ]
  },
  {
   "cell_type": "code",
   "execution_count": 252,
   "id": "5e8302ca",
   "metadata": {},
   "outputs": [
    {
     "data": {
      "text/plain": [
       "'TPFFBDRJD'"
      ]
     },
     "execution_count": 252,
     "metadata": {},
     "output_type": "execute_result"
    }
   ],
   "source": [
    "# Part 2 solution\n",
    "message = ''\n",
    "for c in crates:\n",
    "    message += c[0]\n",
    "message"
   ]
  },
  {
   "cell_type": "code",
   "execution_count": null,
   "id": "ac79e05a",
   "metadata": {},
   "outputs": [],
   "source": []
  }
 ],
 "metadata": {
  "kernelspec": {
   "display_name": "Python 3 (ipykernel)",
   "language": "python",
   "name": "python3"
  },
  "language_info": {
   "codemirror_mode": {
    "name": "ipython",
    "version": 3
   },
   "file_extension": ".py",
   "mimetype": "text/x-python",
   "name": "python",
   "nbconvert_exporter": "python",
   "pygments_lexer": "ipython3",
   "version": "3.9.5"
  }
 },
 "nbformat": 4,
 "nbformat_minor": 5
}
