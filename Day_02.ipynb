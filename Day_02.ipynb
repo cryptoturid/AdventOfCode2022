{
 "cells": [
  {
   "cell_type": "code",
   "execution_count": 9,
   "id": "266454c0",
   "metadata": {},
   "outputs": [],
   "source": [
    "#f = open(\"Day_02_example.txt\")\n",
    "f = open(\"Day_02_input.txt\")"
   ]
  },
  {
   "cell_type": "code",
   "execution_count": 53,
   "id": "8170b7b8",
   "metadata": {},
   "outputs": [],
   "source": [
    "# A for Rock, B for Paper, and C for Scissors\n",
    "# X for Rock, Y for Paper, and Z for Scissors\n",
    "\n",
    "# Points:\n",
    "# 1 for Rock, 2 for Paper, and 3 for Scissors\n",
    "# X = 1, Y = 2, Z = 3\n",
    "# Loss = 0, Draw = 3, Win = 6"
   ]
  },
  {
   "cell_type": "code",
   "execution_count": 6,
   "id": "ec2af653",
   "metadata": {},
   "outputs": [],
   "source": [
    "games = []\n",
    "for line in f:\n",
    "    game = line.rstrip()\n",
    "    games.append(game)"
   ]
  },
  {
   "cell_type": "code",
   "execution_count": 50,
   "id": "f210af9d",
   "metadata": {},
   "outputs": [],
   "source": [
    "scoring = {\n",
    "    \"A X\": 3 + 1,\n",
    "    \"A Y\": 6 + 2,\n",
    "    \"A Z\": 0 + 3,\n",
    "    \"B X\": 0 + 1,\n",
    "    \"B Y\": 3 + 2,\n",
    "    \"B Z\": 6 + 3,\n",
    "    \"C X\": 6 + 1,\n",
    "    \"C Y\": 0 + 2,\n",
    "    \"C Z\": 3 + 3\n",
    "}"
   ]
  },
  {
   "cell_type": "code",
   "execution_count": 52,
   "id": "e79e6fe5",
   "metadata": {},
   "outputs": [
    {
     "data": {
      "text/plain": [
       "11603"
      ]
     },
     "execution_count": 52,
     "metadata": {},
     "output_type": "execute_result"
    }
   ],
   "source": [
    "# Part 1 solution\n",
    "score = 0\n",
    "for game in games:\n",
    "    score = score + scoring[game]\n",
    "scores"
   ]
  },
  {
   "cell_type": "code",
   "execution_count": null,
   "id": "af626241",
   "metadata": {},
   "outputs": [],
   "source": [
    "# X means you need to lose, Y means you need to end the round in a draw, and Z means you need to win.\n",
    "# Points: 1 for Rock, 2 for Paper, and 3 for Scissors"
   ]
  },
  {
   "cell_type": "code",
   "execution_count": 60,
   "id": "527a2053",
   "metadata": {},
   "outputs": [],
   "source": [
    "scoring2 = {\n",
    "    \"A X\": 0 + 3,\n",
    "    \"A Y\": 3 + 1,\n",
    "    \"A Z\": 6 + 2,\n",
    "    \"B X\": 0 + 1,\n",
    "    \"B Y\": 3 + 2,\n",
    "    \"B Z\": 6 + 3,\n",
    "    \"C X\": 0 + 2,\n",
    "    \"C Y\": 3 + 3,\n",
    "    \"C Z\": 6 + 1    \n",
    "}"
   ]
  },
  {
   "cell_type": "code",
   "execution_count": 61,
   "id": "6643ce85",
   "metadata": {},
   "outputs": [
    {
     "data": {
      "text/plain": [
       "12725"
      ]
     },
     "execution_count": 61,
     "metadata": {},
     "output_type": "execute_result"
    }
   ],
   "source": [
    "# Part 2 solution\n",
    "score = 0\n",
    "for game in games:\n",
    "    score = score + scoring2[game]\n",
    "score"
   ]
  },
  {
   "cell_type": "code",
   "execution_count": 10,
   "id": "3c107738",
   "metadata": {},
   "outputs": [
    {
     "data": {
      "text/plain": [
       "['A Y', 'B X', 'C Z']"
      ]
     },
     "execution_count": 10,
     "metadata": {},
     "output_type": "execute_result"
    }
   ],
   "source": [
    "# Using list comprehension\n",
    "f = open(\"Day_02_example.txt\")\n",
    "games_lc = [line.rstrip() for line in f]\n",
    "games_lc"
   ]
  }
 ],
 "metadata": {
  "kernelspec": {
   "display_name": "Python 3 (ipykernel)",
   "language": "python",
   "name": "python3"
  },
  "language_info": {
   "codemirror_mode": {
    "name": "ipython",
    "version": 3
   },
   "file_extension": ".py",
   "mimetype": "text/x-python",
   "name": "python",
   "nbconvert_exporter": "python",
   "pygments_lexer": "ipython3",
   "version": "3.9.5"
  }
 },
 "nbformat": 4,
 "nbformat_minor": 5
}
