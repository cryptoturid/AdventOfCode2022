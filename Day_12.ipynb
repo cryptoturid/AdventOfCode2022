{
 "cells": [
  {
   "cell_type": "code",
   "execution_count": 66,
   "id": "8bec4aa5",
   "metadata": {},
   "outputs": [],
   "source": [
    "f = open('Day_12_input.txt')\n",
    "map_data = [line.rstrip() for line in f]"
   ]
  },
  {
   "cell_type": "code",
   "execution_count": 67,
   "id": "31e972f4",
   "metadata": {},
   "outputs": [],
   "source": [
    "map_dict = dict()\n",
    "for y in range(len(map_data)):\n",
    "    for x in range(len(map_data[y])):\n",
    "        map_dict[(y, x)] = map_data[y][x]"
   ]
  },
  {
   "cell_type": "code",
   "execution_count": 69,
   "id": "6aaf0015",
   "metadata": {},
   "outputs": [],
   "source": [
    "def elevation(position):\n",
    "    if map_dict[position] == 'S':\n",
    "        return ord('a')\n",
    "    elif map_dict[position] == 'E':\n",
    "        return ord('z')\n",
    "    else:\n",
    "        return ord(map_dict[position])"
   ]
  },
  {
   "cell_type": "code",
   "execution_count": 70,
   "id": "7b454051",
   "metadata": {},
   "outputs": [],
   "source": [
    "def elevation_check(source, destination):\n",
    "    return elevation(destination) - elevation(source) <= 1"
   ]
  },
  {
   "cell_type": "code",
   "execution_count": 71,
   "id": "5fab1d4b",
   "metadata": {},
   "outputs": [],
   "source": [
    "def possible_moves(position):\n",
    "    moves = set()\n",
    "    py, px = position[0], position[1]\n",
    "    up = (py - 1, px)\n",
    "    down = (py + 1, px)\n",
    "    left = (py, px - 1)\n",
    "    right = (py, px + 1)\n",
    "    for neighbour in [up, down, left, right]:\n",
    "        if neighbour in map_dict and elevation_check(position, neighbour):\n",
    "            moves.add(neighbour)\n",
    "    return moves"
   ]
  },
  {
   "cell_type": "code",
   "execution_count": 80,
   "id": "d780da3a",
   "metadata": {},
   "outputs": [],
   "source": [
    "def shortest_path(source, destination):\n",
    "    unvisited = set(map_dict.keys())\n",
    "    distances = {source: 0}\n",
    "    current = source\n",
    "    \n",
    "    while True:\n",
    "        unvisited_neighbours = possible_moves(current) & unvisited\n",
    "        for n in unvisited_neighbours:\n",
    "            distance = distances[current] + 1\n",
    "            distances[n] = min(distance, distances.get(n, 999))\n",
    "        unvisited.discard(current)\n",
    "        if destination == current:\n",
    "            return distances[current]\n",
    "        try: \n",
    "            current = min(unvisited & distances.keys(), key = lambda pos: distances[pos])\n",
    "        except ValueError:\n",
    "            return 9999"
   ]
  },
  {
   "cell_type": "code",
   "execution_count": 83,
   "id": "609faa63",
   "metadata": {},
   "outputs": [
    {
     "data": {
      "text/plain": [
       "420"
      ]
     },
     "execution_count": 83,
     "metadata": {},
     "output_type": "execute_result"
    }
   ],
   "source": [
    "# Part 1 solution\n",
    "source = next(key for key, value in map_dict.items() if value == 'S')\n",
    "destination = next(key for key, value in map_dict.items() if value == 'E')\n",
    "shortest_path(source, destination)"
   ]
  },
  {
   "cell_type": "code",
   "execution_count": 84,
   "id": "76f2c2ae",
   "metadata": {},
   "outputs": [
    {
     "data": {
      "text/plain": [
       "414"
      ]
     },
     "execution_count": 84,
     "metadata": {},
     "output_type": "execute_result"
    }
   ],
   "source": [
    "sources = {pos for pos, value in map_dict.items() if value in ('a', 'S')}\n",
    "destination = next(key for key, value in map_dict.items() if value == 'E')\n",
    "min(shortest_path(s, destination) for s in sources)"
   ]
  }
 ],
 "metadata": {
  "kernelspec": {
   "display_name": "Python 3 (ipykernel)",
   "language": "python",
   "name": "python3"
  },
  "language_info": {
   "codemirror_mode": {
    "name": "ipython",
    "version": 3
   },
   "file_extension": ".py",
   "mimetype": "text/x-python",
   "name": "python",
   "nbconvert_exporter": "python",
   "pygments_lexer": "ipython3",
   "version": "3.9.5"
  }
 },
 "nbformat": 4,
 "nbformat_minor": 5
}
