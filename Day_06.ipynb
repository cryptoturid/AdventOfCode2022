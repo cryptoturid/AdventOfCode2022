{
 "cells": [
  {
   "cell_type": "code",
   "execution_count": 41,
   "id": "f175f40b",
   "metadata": {},
   "outputs": [],
   "source": [
    "example = 'mjqjpqmgbljsphdztnvjfqwrcgsmlb'\n",
    "example2 = 'bvwbjplbgvbhsrlpgdmjqwftvncz'"
   ]
  },
  {
   "cell_type": "code",
   "execution_count": 39,
   "id": "6dc237e1",
   "metadata": {},
   "outputs": [],
   "source": [
    "def find_marker(buffer):\n",
    "    for i in range(3, len(buffer)):\n",
    "        #print(buffer[i])\n",
    "        recent_four = set(buffer[i-3 : i+1])\n",
    "        if len(recent_four) == 4:\n",
    "            return i + 1"
   ]
  },
  {
   "cell_type": "code",
   "execution_count": 42,
   "id": "8f53ff62",
   "metadata": {},
   "outputs": [
    {
     "data": {
      "text/plain": [
       "5"
      ]
     },
     "execution_count": 42,
     "metadata": {},
     "output_type": "execute_result"
    }
   ],
   "source": [
    "find_marker(example2)"
   ]
  },
  {
   "cell_type": "code",
   "execution_count": 45,
   "id": "b2d5ad7f",
   "metadata": {},
   "outputs": [
    {
     "data": {
      "text/plain": [
       "1850"
      ]
     },
     "execution_count": 45,
     "metadata": {},
     "output_type": "execute_result"
    }
   ],
   "source": [
    "# Part 1 solution\n",
    "f = open(\"Day_06_input.txt\")\n",
    "stream = f.read().rstrip()\n",
    "find_marker(stream)"
   ]
  },
  {
   "cell_type": "code",
   "execution_count": 49,
   "id": "a1a04f4b",
   "metadata": {},
   "outputs": [],
   "source": [
    "def find_start_marker(buffer):\n",
    "    for i in range(13, len(buffer)):\n",
    "        #print(buffer[i])\n",
    "        recent_fourteen = set(buffer[i-13 : i+1])\n",
    "        if len(recent_fourteen) == 14:\n",
    "            return i + 1"
   ]
  },
  {
   "cell_type": "code",
   "execution_count": 51,
   "id": "d05e784d",
   "metadata": {},
   "outputs": [
    {
     "data": {
      "text/plain": [
       "23"
      ]
     },
     "execution_count": 51,
     "metadata": {},
     "output_type": "execute_result"
    }
   ],
   "source": [
    "find_start_marker(example2)"
   ]
  },
  {
   "cell_type": "code",
   "execution_count": 52,
   "id": "e0eb67fb",
   "metadata": {},
   "outputs": [
    {
     "data": {
      "text/plain": [
       "2823"
      ]
     },
     "execution_count": 52,
     "metadata": {},
     "output_type": "execute_result"
    }
   ],
   "source": [
    "# Part 2 solution\n",
    "f = open(\"Day_06_input.txt\")\n",
    "stream = f.read().rstrip()\n",
    "find_start_marker(stream)"
   ]
  },
  {
   "cell_type": "code",
   "execution_count": null,
   "id": "2b750004",
   "metadata": {},
   "outputs": [],
   "source": []
  }
 ],
 "metadata": {
  "kernelspec": {
   "display_name": "Python 3 (ipykernel)",
   "language": "python",
   "name": "python3"
  },
  "language_info": {
   "codemirror_mode": {
    "name": "ipython",
    "version": 3
   },
   "file_extension": ".py",
   "mimetype": "text/x-python",
   "name": "python",
   "nbconvert_exporter": "python",
   "pygments_lexer": "ipython3",
   "version": "3.9.5"
  }
 },
 "nbformat": 4,
 "nbformat_minor": 5
}
