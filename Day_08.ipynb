{
 "cells": [
  {
   "cell_type": "code",
   "execution_count": 171,
   "id": "682c16fc",
   "metadata": {},
   "outputs": [],
   "source": [
    "f = open(\"Day_08_input.txt\")\n",
    "#f = open(\"Day_08_example.txt\")\n",
    "trees = [[int(c) for c in line.rstrip()] for line in f]\n",
    "#trees"
   ]
  },
  {
   "cell_type": "code",
   "execution_count": 172,
   "id": "c8a8b30b",
   "metadata": {},
   "outputs": [],
   "source": [
    "def find_visible(grid):\n",
    "    visible = 0\n",
    "    for i in range(len(grid)):\n",
    "        for j in range(len(grid[i])):\n",
    "            if i == 0 or j == 0 or i == len(grid)-1 or j == len(grid[i])-1:\n",
    "                visible = visible + 1\n",
    "                #print((i, j))\n",
    "            elif max([g[j] for g in grid][:i]) < grid[i][j]:\n",
    "                visible = visible + 1\n",
    "            elif max([g[j] for g in grid][i+1:]) < grid[i][j]:\n",
    "                    visible = visible + 1\n",
    "            elif max(grid[i][:j]) < grid[i][j]:\n",
    "                visible = visible + 1\n",
    "            elif max(grid[i][j+1:]) < grid[i][j]:\n",
    "                visible = visible + 1\n",
    "    return visible                        "
   ]
  },
  {
   "cell_type": "code",
   "execution_count": 173,
   "id": "5064ef67",
   "metadata": {},
   "outputs": [
    {
     "data": {
      "text/plain": [
       "1681"
      ]
     },
     "execution_count": 173,
     "metadata": {},
     "output_type": "execute_result"
    }
   ],
   "source": [
    "# Part 1 solution\n",
    "find_visible(trees)"
   ]
  },
  {
   "cell_type": "code",
   "execution_count": 187,
   "id": "b82197a9",
   "metadata": {},
   "outputs": [],
   "source": [
    "def max_viewing_distance(grid):\n",
    "    max_dist = 0\n",
    "    for i in range(len(grid)):\n",
    "        for j in range(len(grid[i])):\n",
    "            if i == 0 or j == 0 or i == len(grid)-1 or j == len(grid[i])-1:\n",
    "                dist = 0\n",
    "            else:\n",
    "#                print(f'pos: ({i}, {j}): {grid[i][j]!r}')\n",
    "                dist = 1\n",
    "                k = j-1\n",
    "                while k >= 0:  # left\n",
    "                    #print((i, k))\n",
    "                    if k == 0 or grid[i][k] >= grid[i][j]:\n",
    "                        dist *= (j-k)\n",
    "#                        print(f'   left: ({i}, {k})')\n",
    "                        break\n",
    "                    else: \n",
    "                        k = k-1\n",
    "                #print(dist)\n",
    "                k = j+1\n",
    "                while k < len(grid[i]):  # right\n",
    "                    #print((i, k))\n",
    "                    if k == len(grid[i])-1 or grid[i][k] >= grid[i][j]:\n",
    "                        dist *= (k-j)\n",
    "#                        print(f'  right: ({i}, {k})')\n",
    "                        break\n",
    "                    else:\n",
    "                        k = k + 1\n",
    "                #print(dist)\n",
    "                k = i-1\n",
    "                while k >= 0:  # up\n",
    "                    #print((k, j))\n",
    "                    if k == 0 or grid[k][j] >= grid[i][j]:\n",
    "                        dist *= (i-k)\n",
    "#                        print(f'     up: ({k}, {j})')\n",
    "                        break\n",
    "                    else: \n",
    "                        k = k-1\n",
    "                k = i+1\n",
    "                while k < len([g[j] for g in grid]):  # down\n",
    "                    #print((k, j))\n",
    "                    if k == len([g[j] for g in grid])-1 or grid[k][j] >= grid[i][j]:\n",
    "                        dist *= (k-i)\n",
    "#                        print(f'   down: ({k}, {j})')\n",
    "                        break\n",
    "                    else:\n",
    "                        k = k + 1\n",
    "                #print(dist)\n",
    "            if dist > max_dist:\n",
    "                max_dist = dist\n",
    "    return max_dist                            "
   ]
  },
  {
   "cell_type": "code",
   "execution_count": 188,
   "id": "9bf9cb1e",
   "metadata": {},
   "outputs": [
    {
     "data": {
      "text/plain": [
       "201684"
      ]
     },
     "execution_count": 188,
     "metadata": {},
     "output_type": "execute_result"
    }
   ],
   "source": [
    "# Part 2 solution\n",
    "max_viewing_distance(trees)  # NOT 193336"
   ]
  },
  {
   "cell_type": "code",
   "execution_count": null,
   "id": "bac2e4f9",
   "metadata": {},
   "outputs": [],
   "source": []
  }
 ],
 "metadata": {
  "kernelspec": {
   "display_name": "Python 3 (ipykernel)",
   "language": "python",
   "name": "python3"
  },
  "language_info": {
   "codemirror_mode": {
    "name": "ipython",
    "version": 3
   },
   "file_extension": ".py",
   "mimetype": "text/x-python",
   "name": "python",
   "nbconvert_exporter": "python",
   "pygments_lexer": "ipython3",
   "version": "3.9.5"
  }
 },
 "nbformat": 4,
 "nbformat_minor": 5
}
