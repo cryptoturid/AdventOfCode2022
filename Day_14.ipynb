{
 "cells": [
  {
   "cell_type": "code",
   "execution_count": 60,
   "id": "9e87d1af",
   "metadata": {},
   "outputs": [
    {
     "data": {
      "text/plain": [
       "[[[498, 4], [498, 6], [496, 6]], [[503, 4], [502, 4], [502, 9], [494, 9]]]"
      ]
     },
     "execution_count": 60,
     "metadata": {},
     "output_type": "execute_result"
    }
   ],
   "source": [
    "f = open('Day_14_example.txt')\n",
    "#f = open('Day_14_input.txt')\n",
    "scan = [line.rstrip().split(' -> ') for line in f]\n",
    "scan = [list(map(lambda x: x.split(','), scan[i])) for i in range(len(scan))]\n",
    "scan = [[list(map(int, i)) for i in scan[j]] for j in range(len(scan))]\n",
    "scan"
   ]
  },
  {
   "cell_type": "code",
   "execution_count": 74,
   "id": "c2009448",
   "metadata": {},
   "outputs": [
    {
     "data": {
      "text/plain": [
       "[494, 495, 496, 497, 498, 499, 500, 501, 502, 503]"
      ]
     },
     "execution_count": 74,
     "metadata": {},
     "output_type": "execute_result"
    }
   ],
   "source": [
    "low = min([min(s)[0] for s in scan])\n",
    "high = max([max(s)[0] for s in scan])\n",
    "list(range(low, high + 1))"
   ]
  },
  {
   "cell_type": "code",
   "execution_count": 82,
   "id": "08ae58b3",
   "metadata": {},
   "outputs": [],
   "source": [
    "def draw_cave(scan):\n",
    "    \n",
    "    #low = min([min(s)[0] for s in scan])\n",
    "    #high = max([max(s)[0] for s in scan])\n",
    "    #bottom = max([max([s[1] for s in scan[i]]) for i in range(len(scan))])\n",
    "    \n",
    "    "
   ]
  },
  {
   "cell_type": "code",
   "execution_count": 83,
   "id": "feda8a06",
   "metadata": {},
   "outputs": [
    {
     "name": "stdout",
     "output_type": "stream",
     "text": [
      ".\n",
      ".\n",
      ".\n",
      ".\n",
      ".\n",
      ".\n",
      ".\n",
      ".\n",
      ".\n",
      ".\n",
      ".\n",
      ".\n",
      ".\n",
      ".\n",
      ".\n",
      ".\n",
      ".\n",
      ".\n",
      ".\n",
      ".\n",
      ".\n",
      ".\n",
      ".\n",
      ".\n",
      ".\n",
      ".\n",
      ".\n",
      ".\n",
      ".\n",
      ".\n",
      ".\n",
      ".\n",
      ".\n",
      ".\n",
      ".\n",
      ".\n",
      ".\n",
      ".\n",
      ".\n",
      ".\n",
      ".\n",
      ".\n",
      ".\n",
      ".\n",
      ".\n",
      ".\n",
      ".\n",
      ".\n",
      ".\n",
      ".\n",
      ".\n",
      ".\n",
      ".\n",
      ".\n",
      ".\n",
      ".\n",
      ".\n",
      ".\n",
      ".\n",
      ".\n",
      ".\n",
      ".\n",
      ".\n",
      ".\n",
      ".\n",
      ".\n",
      ".\n",
      ".\n",
      ".\n",
      ".\n",
      ".\n",
      ".\n",
      ".\n",
      ".\n",
      ".\n",
      ".\n",
      ".\n",
      ".\n",
      ".\n",
      ".\n",
      ".\n",
      ".\n",
      ".\n",
      ".\n",
      ".\n",
      ".\n",
      ".\n",
      ".\n",
      ".\n",
      ".\n"
     ]
    }
   ],
   "source": [
    "draw_cave(scan)"
   ]
  },
  {
   "cell_type": "code",
   "execution_count": null,
   "id": "1f747fe0",
   "metadata": {},
   "outputs": [],
   "source": []
  }
 ],
 "metadata": {
  "kernelspec": {
   "display_name": "Python 3 (ipykernel)",
   "language": "python",
   "name": "python3"
  },
  "language_info": {
   "codemirror_mode": {
    "name": "ipython",
    "version": 3
   },
   "file_extension": ".py",
   "mimetype": "text/x-python",
   "name": "python",
   "nbconvert_exporter": "python",
   "pygments_lexer": "ipython3",
   "version": "3.9.5"
  }
 },
 "nbformat": 4,
 "nbformat_minor": 5
}
