{
 "cells": [
  {
   "cell_type": "code",
   "execution_count": 21,
   "id": "d1a18d79",
   "metadata": {},
   "outputs": [],
   "source": [
    "f = open(\"Day_01_input.txt\")"
   ]
  },
  {
   "cell_type": "code",
   "execution_count": 22,
   "id": "91f4bd5c",
   "metadata": {},
   "outputs": [],
   "source": [
    "elves = []\n",
    "cal = 0\n",
    "for line in f:\n",
    "    line = line.rstrip()\n",
    "    if line != \"\":\n",
    "        cal = cal + int(line)\n",
    "    else:\n",
    "        elves.append(cal)\n",
    "        cal = 0"
   ]
  },
  {
   "cell_type": "code",
   "execution_count": 23,
   "id": "148e0072",
   "metadata": {},
   "outputs": [
    {
     "data": {
      "text/plain": [
       "69883"
      ]
     },
     "execution_count": 23,
     "metadata": {},
     "output_type": "execute_result"
    }
   ],
   "source": [
    "# Part 1 solution\n",
    "max(elves) "
   ]
  },
  {
   "cell_type": "code",
   "execution_count": 24,
   "id": "f5ecdc77",
   "metadata": {},
   "outputs": [
    {
     "data": {
      "text/plain": [
       "207576"
      ]
     },
     "execution_count": 24,
     "metadata": {},
     "output_type": "execute_result"
    }
   ],
   "source": [
    "# Part 2 solution\n",
    "elves.sort()\n",
    "sum(elves[-3:])"
   ]
  }
 ],
 "metadata": {
  "kernelspec": {
   "display_name": "Python 3 (ipykernel)",
   "language": "python",
   "name": "python3"
  },
  "language_info": {
   "codemirror_mode": {
    "name": "ipython",
    "version": 3
   },
   "file_extension": ".py",
   "mimetype": "text/x-python",
   "name": "python",
   "nbconvert_exporter": "python",
   "pygments_lexer": "ipython3",
   "version": "3.9.5"
  }
 },
 "nbformat": 4,
 "nbformat_minor": 5
}
